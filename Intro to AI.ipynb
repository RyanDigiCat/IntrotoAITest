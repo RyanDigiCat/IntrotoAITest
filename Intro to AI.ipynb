{
 "cells": [
  {
   "cell_type": "code",
   "execution_count": 1,
   "metadata": {
    "init_cell": true
   },
   "outputs": [
    {
     "data": {
      "text/html": [
       "<script>\n",
       "code_show=true; \n",
       "function code_toggle() {\n",
       " if (code_show){\n",
       " $('div.input').hide();\n",
       " } else {\n",
       " $('div.input').show();\n",
       " }\n",
       " code_show = !code_show\n",
       "} \n",
       "$( document ).ready(code_toggle);\n",
       "</script>\n",
       "<form action=\"javascript:code_toggle()\"><input type=\"submit\" value=\"Click here to toggle on/off the raw code for this notebook.\"></form>"
      ],
      "text/plain": [
       "<IPython.core.display.HTML object>"
      ]
     },
     "metadata": {},
     "output_type": "display_data"
    },
    {
     "data": {
      "application/javascript": [
       "IPython.notebook.execute_cells([2, 3, 6])"
      ],
      "text/plain": [
       "<IPython.core.display.Javascript object>"
      ]
     },
     "execution_count": 1,
     "metadata": {},
     "output_type": "execute_result"
    }
   ],
   "source": [
    "from IPython.display import HTML, Javascript, display\n",
    "import IPython\n",
    "from ipywidgets import widgets\n",
    "\n",
    "hide_all_code_button = HTML('''<script>\n",
    "code_show=true; \n",
    "function code_toggle() {\n",
    " if (code_show){\n",
    " $('div.input').hide();\n",
    " } else {\n",
    " $('div.input').show();\n",
    " }\n",
    " code_show = !code_show\n",
    "} \n",
    "$( document ).ready(code_toggle);\n",
    "</script>\n",
    "<form action=\"javascript:code_toggle()\"><input type=\"submit\" value=\"Click here to toggle on/off the raw code for this notebook.\"></form>''')\n",
    "display(hide_all_code_button)\n",
    "\n",
    "\n",
    "def run_below(ev):\n",
    "    display(Javascript('IPython.notebook.execute_cells([IPython.notebook.get_selected_index()+1])'))\n",
    "\n",
    "run_code_below_button = widgets.Button(description=\"Run code\")\n",
    "run_code_below_button.on_click(run_below)\n",
    "\n",
    "# # So far we enter the code button cells manually - we need to find a way to automate this.\n",
    "# CELLS_TO_RUN = [2, # Cell that includes the dependencies for the notebook (python libraries)\n",
    "#                 3  # Cell that includes the helper functions\n",
    "#                ]\n",
    "# CODE_BUTTON_CELL_IDXS = [6]\n",
    "# # Generate code button cells\n",
    "# Javascript(f'IPython.notebook.execute_cells({CELLS_TO_RUN + CODE_BUTTON_CELL_IDXS})')"
   ]
  },
  {
   "cell_type": "code",
   "execution_count": 5,
   "metadata": {
    "init_cell": true
   },
   "outputs": [],
   "source": [
    "# Basic dependencies\n",
    "import math\n",
    "\n",
    "# Numerical and dataframe dependencies\n",
    "import numpy as np\n",
    "import pandas as pd\n",
    "\n",
    "# Plotting dependencies\n",
    "import matplotlib.pyplot as plt\n",
    "import seaborn as sns\n",
    "\n",
    "import altair as alt\n",
    "\n",
    "# Deep Learning \n",
    "import tensorflow as tf\n",
    "\n",
    "%matplotlib inline"
   ]
  },
  {
   "cell_type": "code",
   "execution_count": 2,
   "metadata": {
    "init_cell": true
   },
   "outputs": [],
   "source": [
    "# Helper functions\n"
   ]
  },
  {
   "cell_type": "markdown",
   "metadata": {
    "slideshow": {
     "slide_type": "-"
    }
   },
   "source": [
    "# Intro to AI Notebook"
   ]
  },
  {
   "cell_type": "markdown",
   "metadata": {},
   "source": [
    "<img src=\"images/IntroToAIOpeningImage.jpeg\" width=\"600\">\n",
    "\n",
    "Welcome to the Jupyter notebook! This is the classic environment for a data scientist and Machine Learning Engineer. The first code cell that you ran hides all of the code we will be running today, so you don't have to worry about it. But, if you would like to take a look then you can toggle the code on and off at any time!\n",
    "\n",
    "The intention of this notebook is to give you an interactive and friendly introduction to AI and Machine Learning by stepping through a classic data scientist.\n",
    "\n",
    "<img src=\"images/DataScienceLifeCycle.png\" width=\"400\" title=\"Data Science Workflow\">\n",
    "\n",
    "A classic Machine Learning workflow is made up of the following general steps\n",
    "\n",
    "- Define Problem\n",
    "- Specify Inputs & Outputs\n",
    "- Exploratory data analysis\n",
    "- Data Collection\n",
    "- Data Preprocessing\n",
    "- Data Cleaning\n",
    "- Visualization\n",
    "- Model Design, Training, and Offline Evaluation\n",
    "- Model Deployment, Online Evaluation, and Monitoring\n",
    "- Model Maintenance, Diagnosis, and Retraining\n",
    "\n",
    "<img src=\"images/MLWorkflow.png\" width=\"800\" title=\"ML Workflow\">\n",
    "\n",
    "<img src=\"images/MLWorkflowLowLevel.png\" title=\"Low Level ML Workflow\">\n",
    "\n"
   ]
  },
  {
   "cell_type": "code",
   "execution_count": 7,
   "metadata": {
    "init_cell": true
   },
   "outputs": [
    {
     "data": {
      "application/vnd.jupyter.widget-view+json": {
       "model_id": "c6541b1f128740a388c3aa91d6e38994",
       "version_major": 2,
       "version_minor": 0
      },
      "text/plain": [
       "Button(description='Run code', style=ButtonStyle())"
      ]
     },
     "metadata": {},
     "output_type": "display_data"
    }
   ],
   "source": [
    "display(run_code_below_button)"
   ]
  },
  {
   "cell_type": "code",
   "execution_count": 3,
   "metadata": {},
   "outputs": [
    {
     "name": "stdout",
     "output_type": "stream",
     "text": [
      "Hello world\n"
     ]
    }
   ],
   "source": [
    "print('Hello world')"
   ]
  },
  {
   "cell_type": "markdown",
   "metadata": {},
   "source": [
    "## Test Python"
   ]
  },
  {
   "cell_type": "code",
   "execution_count": null,
   "metadata": {},
   "outputs": [],
   "source": [
    "print('Hello world!')"
   ]
  },
  {
   "cell_type": "code",
   "execution_count": null,
   "metadata": {},
   "outputs": [],
   "source": [
    "import numpy as np\n",
    "\n",
    "print(np.__version__)"
   ]
  },
  {
   "cell_type": "code",
   "execution_count": null,
   "metadata": {},
   "outputs": [],
   "source": [
    "import pandas as pd\n",
    "\n",
    "print(pd.__version__)"
   ]
  },
  {
   "cell_type": "code",
   "execution_count": null,
   "metadata": {},
   "outputs": [],
   "source": [
    "## Nice image slider: https://sanjayasubedi.com.np/deeplearning/tensorflow-2-first-neural-network-for-fashion-mnist/\n",
    "from ipywidgets import interact, widgets\n",
    "img_idx_slider = widgets.IntSlider(value=0, min=0, max=len(x_test)-1, description=\"Image index\")\n",
    "\n",
    "@interact(i=img_idx_slider)\n",
    "def visualize_prediction(i=0):\n",
    "    fix, (ax1, ax2) = plt.subplots(1, 2, figsize=(10, 5))\n",
    "    ax1.imshow(x_test[i], cmap=plt.cm.binary)\n",
    "    ax1.set_title(f\"lbl: {class_names[y_test[i]]}\")\n",
    "    ax1.set_xlabel(f\"pred: {class_names[preds[i]]}\")\n",
    "\n",
    "\n",
    "    ax2.bar(x=[class_names[i] for i in range(10)], height=probs[i]*100)\n",
    "    plt.xticks(rotation=90)"
   ]
  }
 ],
 "metadata": {
  "celltoolbar": "Initialization Cell",
  "kernelspec": {
   "display_name": "Python 3",
   "language": "python",
   "name": "python3"
  },
  "language_info": {
   "codemirror_mode": {
    "name": "ipython",
    "version": 3
   },
   "file_extension": ".py",
   "mimetype": "text/x-python",
   "name": "python",
   "nbconvert_exporter": "python",
   "pygments_lexer": "ipython3",
   "version": "3.7.4"
  }
 },
 "nbformat": 4,
 "nbformat_minor": 2
}
